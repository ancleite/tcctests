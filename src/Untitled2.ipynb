{
 "cells": [
  {
   "cell_type": "code",
   "execution_count": 7,
   "id": "b860c8f0-8db6-4ba0-bcb8-f0791288ae65",
   "metadata": {},
   "outputs": [],
   "source": [
    "import os\n",
    "import numpy as np\n",
    "from tensorflow.keras.preprocessing import image\n",
    "from tensorflow.keras.applications.vgg16 import VGG16, preprocess_input\n",
    "from sklearn.model_selection import train_test_split\n",
    "from sklearn.neighbors import KNeighborsClassifier\n",
    "from sklearn.ensemble import RandomForestClassifier, GradientBoostingClassifier, StackingClassifier\n",
    "from sklearn.svm import SVC\n",
    "from sklearn.metrics import accuracy_score\n",
    "from sklearn.preprocessing import LabelEncoder\n",
    "\n",
    "# Function to extract features using VGG16\n",
    "def extract_features(img_path, model):\n",
    "    img = image.load_img(img_path, target_size=(224, 224))\n",
    "    x = image.img_to_array(img)\n",
    "    x = np.expand_dims(x, axis=0)\n",
    "    x = preprocess_input(x)\n",
    "    features = model.predict(x)\n",
    "    return features.flatten()\n",
    "\n",
    "# Load pre-trained VGG16 model\n",
    "base_model = VGG16(weights='imagenet', include_top=False)\n",
    "\n",
    "# Root directory of the dataset\n",
    "dataset_dir = '../img/Potato'\n",
    "\n",
    "# Initialize lists to hold features and labels\n",
    "X = []\n",
    "y = []"
   ]
  },
  {
   "cell_type": "code",
   "execution_count": 8,
   "id": "c57bc5b2-37e8-472e-8279-695a07deab38",
   "metadata": {},
   "outputs": [],
   "source": [
    "def define_targets(dataset_dir):\n",
    "    # Loop over the subdirectories and image files in the dataset directory\n",
    "    X = []\n",
    "    y = []\n",
    "    for label in os.listdir(dataset_dir):\n",
    "        label_dir = os.path.join(dataset_dir, label)\n",
    "        if os.path.isdir(label_dir):\n",
    "            for file in os.listdir(label_dir):\n",
    "                # Construct the full image path\n",
    "                img_path = os.path.join(label_dir, file)\n",
    "                try:\n",
    "                    # Extract features and append to list\n",
    "                    features = extract_features(img_path, base_model)\n",
    "                    X.append(features)\n",
    "                    # Append the label\n",
    "                    y.append(label)\n",
    "                except Exception as e:\n",
    "                    print(f\"Error processing file {img_path}: {e}\")\n",
    "    return X, y"
   ]
  },
  {
   "cell_type": "code",
   "execution_count": 9,
   "id": "37e731ca-3bc4-4caa-9e9d-0d1c91dd6af2",
   "metadata": {},
   "outputs": [
    {
     "data": {
      "text/plain": [
       "[]"
      ]
     },
     "execution_count": 9,
     "metadata": {},
     "output_type": "execute_result"
    }
   ],
   "source": [
    "X"
   ]
  },
  {
   "cell_type": "code",
   "execution_count": 2,
   "id": "41750f6a-8eff-4a09-a4a2-1197d2b0dfb5",
   "metadata": {},
   "outputs": [
    {
     "ename": "ValueError",
     "evalue": "With n_samples=0, test_size=0.2 and train_size=None, the resulting train set will be empty. Adjust any of the aforementioned parameters.",
     "output_type": "error",
     "traceback": [
      "\u001b[1;31m---------------------------------------------------------------------------\u001b[0m",
      "\u001b[1;31mValueError\u001b[0m                                Traceback (most recent call last)",
      "Cell \u001b[1;32mIn[2], line 3\u001b[0m\n\u001b[0;32m      1\u001b[0m label_encoder \u001b[38;5;241m=\u001b[39m LabelEncoder()\n\u001b[0;32m      2\u001b[0m y \u001b[38;5;241m=\u001b[39m label_encoder\u001b[38;5;241m.\u001b[39mfit_transform(y)\n\u001b[1;32m----> 3\u001b[0m X_train, X_test, y_train, y_test \u001b[38;5;241m=\u001b[39m train_test_split(X, y, test_size\u001b[38;5;241m=\u001b[39m\u001b[38;5;241m0.2\u001b[39m, random_state\u001b[38;5;241m=\u001b[39m\u001b[38;5;241m42\u001b[39m)\n",
      "File \u001b[1;32m~\\anaconda3\\Lib\\site-packages\\sklearn\\model_selection\\_split.py:2562\u001b[0m, in \u001b[0;36mtrain_test_split\u001b[1;34m(test_size, train_size, random_state, shuffle, stratify, *arrays)\u001b[0m\n\u001b[0;32m   2559\u001b[0m arrays \u001b[38;5;241m=\u001b[39m indexable(\u001b[38;5;241m*\u001b[39marrays)\n\u001b[0;32m   2561\u001b[0m n_samples \u001b[38;5;241m=\u001b[39m _num_samples(arrays[\u001b[38;5;241m0\u001b[39m])\n\u001b[1;32m-> 2562\u001b[0m n_train, n_test \u001b[38;5;241m=\u001b[39m _validate_shuffle_split(\n\u001b[0;32m   2563\u001b[0m     n_samples, test_size, train_size, default_test_size\u001b[38;5;241m=\u001b[39m\u001b[38;5;241m0.25\u001b[39m\n\u001b[0;32m   2564\u001b[0m )\n\u001b[0;32m   2566\u001b[0m \u001b[38;5;28;01mif\u001b[39;00m shuffle \u001b[38;5;129;01mis\u001b[39;00m \u001b[38;5;28;01mFalse\u001b[39;00m:\n\u001b[0;32m   2567\u001b[0m     \u001b[38;5;28;01mif\u001b[39;00m stratify \u001b[38;5;129;01mis\u001b[39;00m \u001b[38;5;129;01mnot\u001b[39;00m \u001b[38;5;28;01mNone\u001b[39;00m:\n",
      "File \u001b[1;32m~\\anaconda3\\Lib\\site-packages\\sklearn\\model_selection\\_split.py:2236\u001b[0m, in \u001b[0;36m_validate_shuffle_split\u001b[1;34m(n_samples, test_size, train_size, default_test_size)\u001b[0m\n\u001b[0;32m   2233\u001b[0m n_train, n_test \u001b[38;5;241m=\u001b[39m \u001b[38;5;28mint\u001b[39m(n_train), \u001b[38;5;28mint\u001b[39m(n_test)\n\u001b[0;32m   2235\u001b[0m \u001b[38;5;28;01mif\u001b[39;00m n_train \u001b[38;5;241m==\u001b[39m \u001b[38;5;241m0\u001b[39m:\n\u001b[1;32m-> 2236\u001b[0m     \u001b[38;5;28;01mraise\u001b[39;00m \u001b[38;5;167;01mValueError\u001b[39;00m(\n\u001b[0;32m   2237\u001b[0m         \u001b[38;5;124m\"\u001b[39m\u001b[38;5;124mWith n_samples=\u001b[39m\u001b[38;5;132;01m{}\u001b[39;00m\u001b[38;5;124m, test_size=\u001b[39m\u001b[38;5;132;01m{}\u001b[39;00m\u001b[38;5;124m and train_size=\u001b[39m\u001b[38;5;132;01m{}\u001b[39;00m\u001b[38;5;124m, the \u001b[39m\u001b[38;5;124m\"\u001b[39m\n\u001b[0;32m   2238\u001b[0m         \u001b[38;5;124m\"\u001b[39m\u001b[38;5;124mresulting train set will be empty. Adjust any of the \u001b[39m\u001b[38;5;124m\"\u001b[39m\n\u001b[0;32m   2239\u001b[0m         \u001b[38;5;124m\"\u001b[39m\u001b[38;5;124maforementioned parameters.\u001b[39m\u001b[38;5;124m\"\u001b[39m\u001b[38;5;241m.\u001b[39mformat(n_samples, test_size, train_size)\n\u001b[0;32m   2240\u001b[0m     )\n\u001b[0;32m   2242\u001b[0m \u001b[38;5;28;01mreturn\u001b[39;00m n_train, n_test\n",
      "\u001b[1;31mValueError\u001b[0m: With n_samples=0, test_size=0.2 and train_size=None, the resulting train set will be empty. Adjust any of the aforementioned parameters."
     ]
    }
   ],
   "source": [
    "label_encoder = LabelEncoder()\n",
    "y = label_encoder.fit_transform(y)\n",
    "X_train, X_test, y_train, y_test = train_test_split(X, y, test_size=0.2, random_state=42)"
   ]
  },
  {
   "cell_type": "code",
   "execution_count": 18,
   "id": "5f7a54d9-8ed0-4a3b-99ec-5f3a082c0844",
   "metadata": {},
   "outputs": [
    {
     "name": "stdout",
     "output_type": "stream",
     "text": [
      "Accuracy: 79.35%\n"
     ]
    }
   ],
   "source": [
    "# Train a classifier (example with DecisionTreeClassifier)\n",
    "clf = DecisionTreeClassifier()\n",
    "clf.fit(X_train, y_train)\n",
    "\n",
    "# Make predictions\n",
    "y_pred = clf.predict(X_test)\n",
    "\n",
    "# Calculate accuracy\n",
    "accuracy = accuracy_score(y_test, y_pred)\n",
    "print(f\"Accuracy: {accuracy * 100:.2f}%\")"
   ]
  },
  {
   "cell_type": "code",
   "execution_count": 26,
   "id": "f29054e4-ccd9-4023-accf-5a3410c105ec",
   "metadata": {},
   "outputs": [
    {
     "name": "stdout",
     "output_type": "stream",
     "text": [
      "Accuracy: 95.36%\n"
     ]
    }
   ],
   "source": [
    "# Train a classifier (example with DecisionTreeClassifier)\n",
    "clf = RandomForestClassifier(n_estimators=100, random_state=42)\n",
    "clf.fit(X_train, y_train)\n",
    "\n",
    "# Make predictions\n",
    "y_pred = clf.predict(X_test)\n",
    "\n",
    "# Calculate accuracy\n",
    "accuracy = accuracy_score(y_test, y_pred)\n",
    "print(f\"Accuracy: {accuracy * 100:.2f}%\")"
   ]
  },
  {
   "cell_type": "code",
   "execution_count": 28,
   "id": "33ecc782-df15-4227-913e-a4ac2dea61f3",
   "metadata": {},
   "outputs": [
    {
     "name": "stdout",
     "output_type": "stream",
     "text": [
      "Accuracy: 98.38%\n"
     ]
    }
   ],
   "source": [
    "# Train a classifier (example with DecisionTreeClassifier)\n",
    "clf = SVC(kernel='linear', probability=True)\n",
    "clf.fit(X_train, y_train)\n",
    "\n",
    "# Make predictions\n",
    "y_pred = clf.predict(X_test)\n",
    "\n",
    "# Calculate accuracy\n",
    "accuracy = accuracy_score(y_test, y_pred)\n",
    "print(f\"Accuracy: {accuracy * 100:.2f}%\")"
   ]
  },
  {
   "cell_type": "code",
   "execution_count": 29,
   "id": "a09d5856-83b2-4c47-82a0-87ce2426586b",
   "metadata": {},
   "outputs": [
    {
     "name": "stdout",
     "output_type": "stream",
     "text": [
      "Accuracy: 79.58%\n"
     ]
    }
   ],
   "source": [
    "# Train a classifier (example with DecisionTreeClassifier)\n",
    "clf = KNeighborsClassifier(n_neighbors=10)\n",
    "clf.fit(X_train, y_train)\n",
    "\n",
    "# Make predictions\n",
    "y_pred = clf.predict(X_test)\n",
    "\n",
    "# Calculate accuracy\n",
    "accuracy = accuracy_score(y_test, y_pred)\n",
    "print(f\"Accuracy: {accuracy * 100:.2f}%\")"
   ]
  },
  {
   "cell_type": "code",
   "execution_count": 30,
   "id": "83a418b4-33c1-4a48-8b81-fb92af0d2c1d",
   "metadata": {},
   "outputs": [
    {
     "name": "stdout",
     "output_type": "stream",
     "text": [
      "Accuracy: 96.52%\n"
     ]
    }
   ],
   "source": [
    "# Train a classifier (example with DecisionTreeClassifier)\n",
    "clf = GradientBoostingClassifier(n_estimators=100, random_state=42)\n",
    "clf.fit(X_train, y_train)\n",
    "\n",
    "# Make predictions\n",
    "y_pred = clf.predict(X_test)\n",
    "\n",
    "# Calculate accuracy\n",
    "accuracy = accuracy_score(y_test, y_pred)\n",
    "print(f\"Accuracy: {accuracy * 100:.2f}%\")"
   ]
  },
  {
   "cell_type": "code",
   "execution_count": 25,
   "id": "05f722d8-e2b8-4d7a-b25e-06f94ae365aa",
   "metadata": {},
   "outputs": [
    {
     "name": "stdout",
     "output_type": "stream",
     "text": [
      "Accuracy: 97.45%\n"
     ]
    }
   ],
   "source": [
    "# Definir os estimadores base\n",
    "estimators = [\n",
    "    ('rf', RandomForestClassifier(n_estimators=100, random_state=42)),\n",
    "    ('svc', SVC(kernel='linear', probability=True)),\n",
    "    ('knn', KNeighborsClassifier(n_neighbors=10))\n",
    "]\n",
    "\n",
    "# Definir o estimador final\n",
    "final_estimator = GradientBoostingClassifier(n_estimators=100, random_state=42)\n",
    "\n",
    "# Configurar o StackingClassifier\n",
    "clf = StackingClassifier(\n",
    "    estimators=estimators,\n",
    "    final_estimator=final_estimator\n",
    ")\n",
    "\n",
    "# Treinar o modelo\n",
    "clf.fit(X_train, y_train)\n",
    "\n",
    "# Fazer previsões\n",
    "y_pred = clf.predict(X_test)\n",
    "\n",
    "# Calcular a acurácia\n",
    "accuracy = accuracy_score(y_test, y_pred)\n",
    "print(f\"Accuracy: {accuracy * 100:.2f}%\")"
   ]
  },
  {
   "cell_type": "code",
   "execution_count": 21,
   "id": "d5525aed-755e-4f30-bbb9-6aa226fc7f43",
   "metadata": {},
   "outputs": [
    {
     "data": {
      "text/plain": [
       "array(['Late_blight', 'Late_blight', 'Early_blight', 'Early_blight',\n",
       "       'Late_blight', 'Late_blight', 'Late_blight', 'Late_blight',\n",
       "       'Late_blight', 'Early_blight', 'Early_blight', 'Early_blight',\n",
       "       'Early_blight', 'Early_blight', 'Early_blight', 'healthy',\n",
       "       'Early_blight', 'Early_blight', 'Late_blight', 'Early_blight',\n",
       "       'Late_blight', 'Late_blight', 'Late_blight', 'Late_blight',\n",
       "       'Early_blight', 'Late_blight', 'Late_blight', 'Late_blight',\n",
       "       'Late_blight', 'Late_blight', 'healthy', 'Early_blight',\n",
       "       'Late_blight', 'Late_blight', 'Late_blight', 'Early_blight',\n",
       "       'Early_blight', 'healthy', 'Early_blight', 'Early_blight',\n",
       "       'Late_blight', 'Late_blight', 'Early_blight', 'Late_blight',\n",
       "       'Early_blight', 'Early_blight', 'Late_blight', 'Early_blight',\n",
       "       'Early_blight', 'Early_blight', 'healthy', 'Late_blight',\n",
       "       'Early_blight', 'Late_blight', 'Early_blight', 'Early_blight',\n",
       "       'Late_blight', 'Early_blight', 'Early_blight', 'Late_blight',\n",
       "       'Late_blight', 'Late_blight', 'Early_blight', 'healthy', 'healthy',\n",
       "       'Early_blight', 'Late_blight', 'Early_blight', 'Early_blight',\n",
       "       'Late_blight', 'Late_blight', 'healthy', 'Early_blight',\n",
       "       'Late_blight', 'Early_blight', 'Early_blight', 'Late_blight',\n",
       "       'Late_blight', 'Early_blight', 'Early_blight', 'Early_blight',\n",
       "       'Late_blight', 'Early_blight', 'Late_blight', 'Late_blight',\n",
       "       'Late_blight', 'Late_blight', 'Early_blight', 'Late_blight',\n",
       "       'Early_blight', 'healthy', 'Late_blight', 'Early_blight',\n",
       "       'Late_blight', 'Early_blight', 'Late_blight', 'Late_blight',\n",
       "       'Early_blight', 'Early_blight', 'Late_blight', 'Late_blight',\n",
       "       'Late_blight', 'Late_blight', 'Late_blight', 'Late_blight',\n",
       "       'Late_blight', 'Late_blight', 'Late_blight', 'Late_blight',\n",
       "       'Late_blight', 'Late_blight', 'Early_blight', 'Late_blight',\n",
       "       'Early_blight', 'Late_blight', 'Late_blight', 'Early_blight',\n",
       "       'Early_blight', 'Early_blight', 'Early_blight', 'Early_blight',\n",
       "       'healthy', 'Late_blight', 'Early_blight', 'Late_blight', 'healthy',\n",
       "       'Late_blight', 'Early_blight', 'Early_blight', 'Early_blight',\n",
       "       'Early_blight', 'Early_blight', 'Early_blight', 'Early_blight',\n",
       "       'Early_blight', 'Late_blight', 'Early_blight', 'Late_blight',\n",
       "       'Early_blight', 'Late_blight', 'Late_blight', 'Early_blight',\n",
       "       'Late_blight', 'Late_blight', 'Early_blight', 'Late_blight',\n",
       "       'Early_blight', 'Late_blight', 'Early_blight', 'Late_blight',\n",
       "       'Early_blight', 'Early_blight', 'Late_blight', 'Early_blight',\n",
       "       'Late_blight', 'Late_blight', 'Early_blight', 'Late_blight',\n",
       "       'Early_blight', 'Late_blight', 'Late_blight', 'Late_blight',\n",
       "       'Early_blight', 'Late_blight', 'Early_blight', 'Late_blight',\n",
       "       'Early_blight', 'Late_blight', 'Early_blight', 'Late_blight',\n",
       "       'Late_blight', 'Early_blight', 'Late_blight', 'Late_blight',\n",
       "       'Late_blight', 'Late_blight', 'Late_blight', 'Late_blight',\n",
       "       'Early_blight', 'Early_blight', 'Early_blight', 'Early_blight',\n",
       "       'Early_blight', 'Early_blight', 'Early_blight', 'Late_blight',\n",
       "       'Late_blight', 'Early_blight', 'Early_blight', 'healthy',\n",
       "       'Late_blight', 'Late_blight', 'healthy', 'healthy', 'Late_blight',\n",
       "       'Late_blight', 'Early_blight', 'Early_blight', 'Early_blight',\n",
       "       'Late_blight', 'Late_blight', 'Late_blight', 'Early_blight',\n",
       "       'Late_blight', 'Late_blight', 'Late_blight', 'Late_blight',\n",
       "       'Early_blight', 'Early_blight', 'Early_blight', 'Early_blight',\n",
       "       'Late_blight', 'Early_blight', 'Early_blight', 'Late_blight',\n",
       "       'Early_blight', 'Early_blight', 'Late_blight', 'Late_blight',\n",
       "       'Late_blight', 'Late_blight', 'Early_blight', 'Early_blight',\n",
       "       'Early_blight', 'Early_blight', 'Early_blight', 'Late_blight',\n",
       "       'Late_blight', 'Late_blight', 'Early_blight', 'Late_blight',\n",
       "       'Late_blight', 'Early_blight', 'Early_blight', 'Late_blight',\n",
       "       'Early_blight', 'Late_blight', 'Early_blight', 'Early_blight',\n",
       "       'Late_blight', 'Late_blight', 'Late_blight', 'Early_blight',\n",
       "       'Early_blight', 'Late_blight', 'Late_blight', 'Late_blight',\n",
       "       'Early_blight', 'Late_blight', 'Early_blight', 'Late_blight',\n",
       "       'Late_blight', 'Late_blight', 'Early_blight', 'Late_blight',\n",
       "       'healthy', 'Late_blight', 'Early_blight', 'Early_blight',\n",
       "       'Early_blight', 'Late_blight', 'Late_blight', 'Early_blight',\n",
       "       'Late_blight', 'Late_blight', 'Early_blight', 'Early_blight',\n",
       "       'Early_blight', 'Late_blight', 'Late_blight', 'Early_blight',\n",
       "       'Late_blight', 'Early_blight', 'Early_blight', 'Late_blight',\n",
       "       'Late_blight', 'Late_blight', 'Late_blight', 'Late_blight',\n",
       "       'Late_blight', 'Late_blight', 'Late_blight', 'Late_blight',\n",
       "       'Early_blight', 'Late_blight', 'Late_blight', 'Early_blight',\n",
       "       'Early_blight', 'healthy', 'Late_blight', 'Early_blight',\n",
       "       'Late_blight', 'Early_blight', 'Late_blight', 'Early_blight',\n",
       "       'Early_blight', 'Early_blight', 'Late_blight', 'Early_blight',\n",
       "       'Early_blight', 'Late_blight', 'Late_blight', 'Late_blight',\n",
       "       'Late_blight', 'Late_blight', 'Early_blight', 'Late_blight',\n",
       "       'Early_blight', 'Late_blight', 'Early_blight', 'Early_blight',\n",
       "       'Early_blight', 'Early_blight', 'Early_blight', 'Early_blight',\n",
       "       'Early_blight', 'Early_blight', 'Late_blight', 'Late_blight',\n",
       "       'Early_blight', 'Early_blight', 'Early_blight', 'Late_blight',\n",
       "       'Early_blight', 'healthy', 'Late_blight', 'Late_blight',\n",
       "       'Late_blight', 'healthy', 'Late_blight', 'Early_blight',\n",
       "       'Late_blight', 'Late_blight', 'Early_blight', 'Early_blight',\n",
       "       'Late_blight', 'Late_blight', 'Late_blight', 'Early_blight',\n",
       "       'Late_blight', 'Early_blight', 'Early_blight', 'Late_blight',\n",
       "       'Late_blight', 'Late_blight', 'Early_blight', 'Late_blight',\n",
       "       'Late_blight', 'Late_blight', 'Late_blight', 'Early_blight',\n",
       "       'Early_blight', 'Late_blight', 'Late_blight', 'Late_blight',\n",
       "       'Late_blight', 'Late_blight', 'Early_blight', 'Late_blight',\n",
       "       'Late_blight', 'Late_blight', 'Early_blight', 'Late_blight',\n",
       "       'Late_blight', 'Late_blight', 'Early_blight', 'Early_blight',\n",
       "       'Early_blight', 'healthy', 'Early_blight', 'healthy',\n",
       "       'Late_blight', 'Early_blight', 'Late_blight', 'Late_blight',\n",
       "       'Late_blight', 'Early_blight', 'Late_blight', 'Early_blight',\n",
       "       'Late_blight', 'Early_blight', 'Early_blight', 'Late_blight',\n",
       "       'Early_blight', 'Late_blight', 'Late_blight', 'Early_blight',\n",
       "       'Late_blight', 'Early_blight', 'Early_blight', 'Early_blight',\n",
       "       'Early_blight', 'Early_blight', 'Late_blight', 'Early_blight',\n",
       "       'Early_blight', 'Late_blight', 'Late_blight', 'Early_blight',\n",
       "       'Early_blight', 'Early_blight', 'Early_blight', 'Early_blight',\n",
       "       'Early_blight', 'Early_blight', 'Early_blight', 'Early_blight',\n",
       "       'Late_blight', 'healthy', 'healthy', 'Late_blight', 'Late_blight',\n",
       "       'Early_blight', 'Late_blight', 'Early_blight', 'Late_blight',\n",
       "       'Late_blight', 'Early_blight', 'Early_blight', 'Early_blight',\n",
       "       'Early_blight', 'Early_blight', 'Late_blight', 'Late_blight',\n",
       "       'Early_blight', 'Late_blight', 'Early_blight', 'Late_blight',\n",
       "       'Early_blight', 'Early_blight', 'Early_blight'], dtype='<U12')"
      ]
     },
     "execution_count": 21,
     "metadata": {},
     "output_type": "execute_result"
    }
   ],
   "source": []
  },
  {
   "cell_type": "code",
   "execution_count": null,
   "id": "06dc4dae-3df4-4c98-88a6-0f25fe1bd293",
   "metadata": {},
   "outputs": [],
   "source": []
  }
 ],
 "metadata": {
  "kernelspec": {
   "display_name": "Python 3 (ipykernel)",
   "language": "python",
   "name": "python3"
  },
  "language_info": {
   "codemirror_mode": {
    "name": "ipython",
    "version": 3
   },
   "file_extension": ".py",
   "mimetype": "text/x-python",
   "name": "python",
   "nbconvert_exporter": "python",
   "pygments_lexer": "ipython3",
   "version": "3.11.7"
  }
 },
 "nbformat": 4,
 "nbformat_minor": 5
}
