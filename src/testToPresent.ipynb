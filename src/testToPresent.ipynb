{
 "cells": [
  {
   "cell_type": "code",
   "execution_count": 1,
   "id": "198a3622-0649-485d-87bf-99e7f67b8364",
   "metadata": {},
   "outputs": [],
   "source": [
    "import os\n",
    "import numpy as np\n",
    "from tensorflow.keras.preprocessing import image\n",
    "from tensorflow.keras.applications.vgg16 import VGG16, preprocess_input\n",
    "from sklearn.model_selection import train_test_split\n",
    "from sklearn.tree import DecisionTreeClassifier\n",
    "from sklearn.neighbors import KNeighborsClassifier\n",
    "from sklearn.ensemble import RandomForestClassifier, GradientBoostingClassifier, StackingClassifier\n",
    "from sklearn.svm import SVC\n",
    "from sklearn.metrics import accuracy_score\n",
    "from sklearn.preprocessing import LabelEncoder\n",
    "import joblib\n",
    "\n",
    "# Function to extract features using VGG16\n",
    "def extract_features(img_path, model):\n",
    "    img = image.load_img(img_path, target_size=(224, 224))\n",
    "    x = image.img_to_array(img)\n",
    "    x = np.expand_dims(x, axis=0)\n",
    "    x = preprocess_input(x)\n",
    "    features = model.predict(x)\n",
    "    return features.flatten()\n",
    "\n",
    "# Load pre-trained VGG16 model\n",
    "base_model = VGG16(weights='imagenet', include_top=False)"
   ]
  },
  {
   "cell_type": "code",
   "execution_count": 2,
   "id": "e700dd30-0edf-460f-9229-ee86f2961c44",
   "metadata": {},
   "outputs": [
    {
     "name": "stdout",
     "output_type": "stream",
     "text": [
      "\u001b[1m1/1\u001b[0m \u001b[32m━━━━━━━━━━━━━━━━━━━━\u001b[0m\u001b[37m\u001b[0m \u001b[1m0s\u001b[0m 461ms/step\n"
     ]
    },
    {
     "data": {
      "text/plain": [
       "array([0., 0., 0., ..., 0., 0., 0.], dtype=float32)"
      ]
     },
     "execution_count": 2,
     "metadata": {},
     "output_type": "execute_result"
    }
   ],
   "source": [
    "image_ef = extract_features('../img/Potato/healthy/img1.jpg', base_model)\n",
    "image_ef"
   ]
  },
  {
   "cell_type": "code",
   "execution_count": 15,
   "id": "ed758d17-970a-44ed-8003-ec42bc143fa3",
   "metadata": {},
   "outputs": [],
   "source": [
    "# Function to extract features using VGG16\n",
    "def extract_features(img_path, model):\n",
    "    img = image.load_img(img_path, target_size=(224, 224))\n",
    "    x = image.img_to_array(img)\n",
    "    y = np.expand_dims(x, axis=0)\n",
    "    z = preprocess_input(y)\n",
    "    features = model.predict(z)\n",
    "    return z"
   ]
  },
  {
   "cell_type": "code",
   "execution_count": 16,
   "id": "11441f00-1489-4063-8449-478d34f73495",
   "metadata": {},
   "outputs": [
    {
     "name": "stdout",
     "output_type": "stream",
     "text": [
      "\u001b[1m1/1\u001b[0m \u001b[32m━━━━━━━━━━━━━━━━━━━━\u001b[0m\u001b[37m\u001b[0m \u001b[1m0s\u001b[0m 94ms/step\n"
     ]
    },
    {
     "data": {
      "text/plain": [
       "array([[[[ 43.060997 ,  23.221    ,  37.32     ],\n",
       "         [ 16.060997 ,  -3.7789993,  10.32     ],\n",
       "         [ 14.060997 ,  -5.7789993,   8.32     ],\n",
       "         ...,\n",
       "         [ 32.060997 ,  13.221001 ,  25.32     ],\n",
       "         [ 29.060997 ,  10.221001 ,  22.32     ],\n",
       "         [ 25.060997 ,   6.2210007,  18.32     ]],\n",
       "\n",
       "        [[ -6.939003 , -26.779    , -12.68     ],\n",
       "         [ 35.060997 ,  15.221001 ,  29.32     ],\n",
       "         [ 64.061    ,  44.221    ,  58.32     ],\n",
       "         ...,\n",
       "         [ 35.060997 ,  16.221    ,  28.32     ],\n",
       "         [ 33.060997 ,  14.221001 ,  26.32     ],\n",
       "         [ 30.060997 ,  11.221001 ,  23.32     ]],\n",
       "\n",
       "        [[ 28.060997 ,   8.221001 ,  22.32     ],\n",
       "         [ 35.060997 ,  15.221001 ,  29.32     ],\n",
       "         [ 21.060997 ,   1.2210007,  15.32     ],\n",
       "         ...,\n",
       "         [ 35.060997 ,  16.221    ,  28.32     ],\n",
       "         [ 34.060997 ,  15.221001 ,  27.32     ],\n",
       "         [ 32.060997 ,  13.221001 ,  25.32     ]],\n",
       "\n",
       "        ...,\n",
       "\n",
       "        [[ 48.060997 ,  28.221    ,  36.32     ],\n",
       "         [ 70.061    ,  50.221    ,  58.32     ],\n",
       "         [ 59.060997 ,  39.221    ,  47.32     ],\n",
       "         ...,\n",
       "         [ 51.060997 ,  28.221    ,  34.32     ],\n",
       "         [ 60.060997 ,  37.221    ,  43.32     ],\n",
       "         [ 71.061    ,  48.221    ,  54.32     ]],\n",
       "\n",
       "        [[ 75.061    ,  55.221    ,  63.32     ],\n",
       "         [ 64.061    ,  44.221    ,  52.32     ],\n",
       "         [ 78.061    ,  58.221    ,  66.32     ],\n",
       "         ...,\n",
       "         [ 64.061    ,  41.221    ,  47.32     ],\n",
       "         [ 50.060997 ,  27.221    ,  33.32     ],\n",
       "         [ 36.060997 ,  13.221001 ,  19.32     ]],\n",
       "\n",
       "        [[ 85.061    ,  65.221    ,  73.32     ],\n",
       "         [ 72.061    ,  52.221    ,  60.32     ],\n",
       "         [ 76.061    ,  56.221    ,  64.32     ],\n",
       "         ...,\n",
       "         [ 68.061    ,  45.221    ,  51.32     ],\n",
       "         [ 44.060997 ,  21.221    ,  27.32     ],\n",
       "         [ 18.060997 ,  -4.7789993,   1.3199997]]]], dtype=float32)"
      ]
     },
     "execution_count": 16,
     "metadata": {},
     "output_type": "execute_result"
    }
   ],
   "source": [
    "image_ef = extract_features('../img/Potato/healthy/img1.jpg', base_model)\n",
    "image_ef"
   ]
  },
  {
   "cell_type": "code",
   "execution_count": null,
   "id": "3456709d-0c56-48fc-b3cd-6d1a266ee1d9",
   "metadata": {},
   "outputs": [],
   "source": []
  }
 ],
 "metadata": {
  "kernelspec": {
   "display_name": "Python 3 (ipykernel)",
   "language": "python",
   "name": "python3"
  },
  "language_info": {
   "codemirror_mode": {
    "name": "ipython",
    "version": 3
   },
   "file_extension": ".py",
   "mimetype": "text/x-python",
   "name": "python",
   "nbconvert_exporter": "python",
   "pygments_lexer": "ipython3",
   "version": "3.11.7"
  }
 },
 "nbformat": 4,
 "nbformat_minor": 5
}
