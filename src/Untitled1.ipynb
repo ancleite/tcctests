{
 "cells": [
  {
   "cell_type": "code",
   "execution_count": 2,
   "id": "264249a0-ad23-4788-9081-14b314e5f732",
   "metadata": {},
   "outputs": [],
   "source": [
    "import os\n",
    "import numpy as np\n",
    "from tensorflow.keras.preprocessing import image\n",
    "from tensorflow.keras.applications.vgg16 import VGG16, preprocess_input\n",
    "from sklearn.model_selection import train_test_split\n",
    "from sklearn.tree import DecisionTreeClassifier\n",
    "from sklearn.ensemble import RandomForestClassifier, BaggingClassifier, VotingClassifier\n",
    "from sklearn.metrics import accuracy_score\n",
    "from sklearn.preprocessing import LabelEncoder\n",
    "\n",
    "\n",
    "\n",
    "# Função para extrair features usando VGG16\n",
    "def extract_features(img_path, model):\n",
    "    img = image.load_img(img_path, target_size=(224, 224))\n",
    "    x = image.img_to_array(img)\n",
    "    x = np.expand_dims(x, axis=0)\n",
    "    x = preprocess_input(x)\n",
    "    features = model.predict(x)\n",
    "    return features.flatten()\n",
    "\n",
    "# Carregar modelo VGG16 pré-treinado\n",
    "base_model = VGG16(weights='imagenet', include_top=False)\n",
    "\n",
    "# Diretório raiz do dataset\n",
    "dataset_dir = '../img/Potato'\n",
    "\n",
    "\n",
    "\n"
   ]
  },
  {
   "cell_type": "code",
   "execution_count": 3,
   "id": "dc13ae53-993c-4bb0-9b8a-393d07827ca8",
   "metadata": {},
   "outputs": [
    {
     "ename": "PermissionError",
     "evalue": "[Errno 13] Permission denied: '../img/Potato'",
     "output_type": "error",
     "traceback": [
      "\u001b[1;31m---------------------------------------------------------------------------\u001b[0m",
      "\u001b[1;31mPermissionError\u001b[0m                           Traceback (most recent call last)",
      "Cell \u001b[1;32mIn[3], line 1\u001b[0m\n\u001b[1;32m----> 1\u001b[0m X, y \u001b[38;5;241m=\u001b[39m extract_features(dataset_dir, base_model)\n",
      "Cell \u001b[1;32mIn[2], line 15\u001b[0m, in \u001b[0;36mextract_features\u001b[1;34m(img_path, model)\u001b[0m\n\u001b[0;32m     14\u001b[0m \u001b[38;5;28;01mdef\u001b[39;00m \u001b[38;5;21mextract_features\u001b[39m(img_path, model):\n\u001b[1;32m---> 15\u001b[0m     img \u001b[38;5;241m=\u001b[39m image\u001b[38;5;241m.\u001b[39mload_img(img_path, target_size\u001b[38;5;241m=\u001b[39m(\u001b[38;5;241m224\u001b[39m, \u001b[38;5;241m224\u001b[39m))\n\u001b[0;32m     16\u001b[0m     x \u001b[38;5;241m=\u001b[39m image\u001b[38;5;241m.\u001b[39mimg_to_array(img)\n\u001b[0;32m     17\u001b[0m     x \u001b[38;5;241m=\u001b[39m np\u001b[38;5;241m.\u001b[39mexpand_dims(x, axis\u001b[38;5;241m=\u001b[39m\u001b[38;5;241m0\u001b[39m)\n",
      "File \u001b[1;32m~\\anaconda3\\Lib\\site-packages\\keras\\src\\utils\\image_utils.py:235\u001b[0m, in \u001b[0;36mload_img\u001b[1;34m(path, color_mode, target_size, interpolation, keep_aspect_ratio)\u001b[0m\n\u001b[0;32m    233\u001b[0m     \u001b[38;5;28;01mif\u001b[39;00m \u001b[38;5;28misinstance\u001b[39m(path, pathlib\u001b[38;5;241m.\u001b[39mPath):\n\u001b[0;32m    234\u001b[0m         path \u001b[38;5;241m=\u001b[39m \u001b[38;5;28mstr\u001b[39m(path\u001b[38;5;241m.\u001b[39mresolve())\n\u001b[1;32m--> 235\u001b[0m     \u001b[38;5;28;01mwith\u001b[39;00m \u001b[38;5;28mopen\u001b[39m(path, \u001b[38;5;124m\"\u001b[39m\u001b[38;5;124mrb\u001b[39m\u001b[38;5;124m\"\u001b[39m) \u001b[38;5;28;01mas\u001b[39;00m f:\n\u001b[0;32m    236\u001b[0m         img \u001b[38;5;241m=\u001b[39m pil_image\u001b[38;5;241m.\u001b[39mopen(io\u001b[38;5;241m.\u001b[39mBytesIO(f\u001b[38;5;241m.\u001b[39mread()))\n\u001b[0;32m    237\u001b[0m \u001b[38;5;28;01melse\u001b[39;00m:\n",
      "\u001b[1;31mPermissionError\u001b[0m: [Errno 13] Permission denied: '../img/Potato'"
     ]
    }
   ],
   "source": [
    "X, y = extract_features(dataset_dir, base_model)"
   ]
  },
  {
   "cell_type": "code",
   "execution_count": 4,
   "id": "41071b92-8560-4da7-8a76-e010f1cb78e6",
   "metadata": {},
   "outputs": [
    {
     "ename": "NameError",
     "evalue": "name 'X' is not defined",
     "output_type": "error",
     "traceback": [
      "\u001b[1;31m---------------------------------------------------------------------------\u001b[0m",
      "\u001b[1;31mNameError\u001b[0m                                 Traceback (most recent call last)",
      "Cell \u001b[1;32mIn[4], line 1\u001b[0m\n\u001b[1;32m----> 1\u001b[0m X_train, X_test, y_train, y_test \u001b[38;5;241m=\u001b[39m train_test_split(X, y, test_size\u001b[38;5;241m=\u001b[39m\u001b[38;5;241m0.2\u001b[39m, random_state\u001b[38;5;241m=\u001b[39m\u001b[38;5;241m42\u001b[39m)\n\u001b[0;32m      2\u001b[0m y_train_encoded, y_test_encoded \u001b[38;5;241m=\u001b[39m encoder_label(y_train, y_test)\n",
      "\u001b[1;31mNameError\u001b[0m: name 'X' is not defined"
     ]
    }
   ],
   "source": [
    "X_train, X_test, y_train, y_test = train_test_split(X, y, test_size=0.2, random_state=42)\n",
    "y_train_encoded, y_test_encoded = encoder_label(y_train, y_test)"
   ]
  },
  {
   "cell_type": "code",
   "execution_count": 1,
   "id": "db5f9068-2d28-4f9e-aab9-80088a87feb3",
   "metadata": {},
   "outputs": [
    {
     "ename": "NameError",
     "evalue": "name 'y_test_encoded' is not defined",
     "output_type": "error",
     "traceback": [
      "\u001b[1;31m---------------------------------------------------------------------------\u001b[0m",
      "\u001b[1;31mNameError\u001b[0m                                 Traceback (most recent call last)",
      "Cell \u001b[1;32mIn[1], line 1\u001b[0m\n\u001b[1;32m----> 1\u001b[0m y_test_encoded\n",
      "\u001b[1;31mNameError\u001b[0m: name 'y_test_encoded' is not defined"
     ]
    }
   ],
   "source": [
    "y_test_encoded"
   ]
  },
  {
   "cell_type": "code",
   "execution_count": 35,
   "id": "c0a4bd3f-f0fe-4f0e-a657-c11db1e94c3c",
   "metadata": {},
   "outputs": [
    {
     "name": "stdout",
     "output_type": "stream",
     "text": [
      "Acurácia do ensemble: 0.9211136890951276\n"
     ]
    }
   ],
   "source": [
    "y_train_encoded, y_test_encoded = encoder_label(y_train, y_test)\n",
    "\n",
    "num_models = 15\n",
    "random_forests = []\n",
    "decision_trees = []\n",
    "baggings = []\n",
    "soft_votes = []\n",
    "\n",
    "for _ in range(num_models):\n",
    "    clfRF = RandomForestClassifier(n_estimators=100, random_state=42)\n",
    "    clfDT = DecisionTreeClassifier(max_depth=4)\n",
    "    clfB = BaggingClassifier(n_estimators=100, random_state=42)\n",
    "    eclf = VotingClassifier(estimators=[('rf', clfRF), ('dt', clfDT), ('bagging', clfB)],\n",
    "                        voting='hard')\n",
    "    \n",
    "    clfRF.fit(X_train, y_train_encoded)\n",
    "    clfDT.fit(X_train, y_train_encoded)\n",
    "    clfB.fit(X_train, y_train_encoded)\n",
    "    eclf.fit(X_train, y_train_encoded)\n",
    "    \n",
    "    random_forests.append(clfRF)\n",
    "    decision_trees.append(clfDT)\n",
    "    baggings.append(clfB)\n",
    "    soft_votes.append(eclf)\n",
    "\n",
    "y_preds = []\n",
    "for clf in soft_votes:\n",
    "    y_pred = clf.predict(X_test)\n",
    "    y_preds.append(y_pred)\n",
    "\n",
    "# Converter as previsões para uma matriz numpy de inteiros\n",
    "y_preds = np.array(y_preds)\n",
    "\n",
    "# Votação da maioria\n",
    "def majority_vote(votes):\n",
    "    vote_counts = np.bincount(votes)\n",
    "    return vote_counts.argmax()\n",
    "\n",
    "# Aplicar votação da maioria ao longo do eixo 0\n",
    "y_pred_ensemble = np.apply_along_axis(majority_vote, axis=0, arr=y_preds)\n",
    "\n",
    "# Converter os rótulos de volta para as classes originais\n",
    "y_pred_ensemble = label_encoder.inverse_transform(y_pred_ensemble)\n",
    "\n",
    "# Avaliar a acurácia do ensemble\n",
    "accuracy = accuracy_score(y_test, y_pred_ensemble)\n",
    "print(f'Acurácia do ensemble: {accuracy}')\n"
   ]
  },
  {
   "cell_type": "markdown",
   "id": "3d27d3ab-6685-4c69-a297-6aa21cddf86c",
   "metadata": {},
   "source": [
    "### Stacking"
   ]
  },
  {
   "cell_type": "code",
   "execution_count": null,
   "id": "3cfc2334-c4e2-4736-a57f-1c0826ceb912",
   "metadata": {},
   "outputs": [],
   "source": [
    "num_models = 15\n",
    "random_forests = []\n",
    "decision_trees = []\n",
    "baggings = []\n",
    "soft_votes = []"
   ]
  },
  {
   "cell_type": "code",
   "execution_count": 19,
   "id": "75ff6343-1cb8-48f9-bfdd-9c44a24e5c42",
   "metadata": {},
   "outputs": [
    {
     "name": "stdout",
     "output_type": "stream",
     "text": [
      "Imagem 1: Predição - doença1, doença1, doença1, doença1, doença1\n",
      "Imagem 2: Predição - doença1, doença1, doença1, doença1, doença1\n",
      "Imagem 3: Predição - saudável, saudável, saudável, saudável, saudável\n",
      "Imagem 4: Predição - saudável, saudável, saudável, saudável, saudável\n",
      "Imagem 5: Predição - doença1, doença1, doença1, doença1, doença1\n",
      "Imagem 6: Predição - saudável, saudável, saudável, saudável, saudável\n",
      "Imagem 7: Predição - doença1, doença1, doença1, doença1, doença1\n",
      "Imagem 8: Predição - doença1, doença1, doença1, doença1, doença1\n",
      "Imagem 9: Predição - doença1, doença1, doença1, doença1, doença1\n",
      "Imagem 10: Predição - saudável, saudável, saudável, saudável, saudável\n",
      "Imagem 11: Predição - saudável, saudável, saudável, saudável, saudável\n",
      "Imagem 12: Predição - saudável, saudável, saudável, saudável, saudável\n",
      "Imagem 13: Predição - saudável, saudável, saudável, saudável, saudável\n",
      "Imagem 14: Predição - doença1, doença1, doença1, doença1, doença1\n",
      "Imagem 15: Predição - saudável, saudável, saudável, saudável, saudável\n",
      "Imagem 16: Predição - doença1, doença1, doença1, doença1, doença1\n",
      "Imagem 17: Predição - doença1, doença1, doença1, doença1, doença1\n",
      "Imagem 18: Predição - saudável, saudável, saudável, saudável, saudável\n",
      "Imagem 19: Predição - doença1, doença1, doença1, doença1, doença1\n",
      "Imagem 20: Predição - saudável, saudável, saudável, saudável, saudável\n"
     ]
    }
   ],
   "source": [
    "# Suponha que você tem uma função para mapear os índices de classe para os nomes das classes\n",
    "classes = ['saudável', 'doença1', 'doença2']  # Ordem dos rótulos (classes)\n",
    "\n",
    "# Prever a classe para cada imagem de teste\n",
    "y_pred_labels = []\n",
    "for clf in random_forests:\n",
    "    y_pred = clf.predict(X_test)\n",
    "    y_pred_labels.append([classes[y] for y in y_pred])\n",
    "\n",
    "# Exibir resultados de previsão para algumas imagens de teste\n",
    "num_exemplos = 20\n",
    "for i in range(num_exemplos):\n",
    "    print(f'Imagem {i+1}: Predição - {y_pred_labels[0][i]}, {y_pred_labels[1][i]}, {y_pred_labels[2][i]}, {y_pred_labels[3][i]}, {y_pred_labels[4][i]}')"
   ]
  },
  {
   "cell_type": "code",
   "execution_count": 20,
   "id": "b47a7bb9-8fca-4ed0-b42f-01bfa7e6c532",
   "metadata": {},
   "outputs": [],
   "source": [
    "def encoder_label(y_train, y_test):\n",
    "    # Codificar rótulos como inteiros\n",
    "    label_encoder = LabelEncoder()\n",
    "    y_train_encoded = label_encoder.fit_transform(y_train)\n",
    "    y_test_encoded = label_encoder.transform(y_test)\n",
    "    return y_train_encoded, y_test_encoded"
   ]
  },
  {
   "cell_type": "code",
   "execution_count": 22,
   "id": "02034abb-4be5-428c-aec2-480bf0b2c497",
   "metadata": {},
   "outputs": [],
   "source": [
    "def features_and_targets(dataset_dir):\n",
    "    # Lista para armazenar features e rótulos\n",
    "    X = []\n",
    "    y = []\n",
    "    # Iterar sobre as pastas de classes (saudável, doença1, doença2)\n",
    "    for classe in os.listdir(dataset_dir):\n",
    "        class_dir = os.path.join(dataset_dir, classe)\n",
    "        if os.path.isdir(class_dir):\n",
    "            # Iterar sobre os arquivos de imagens dentro de cada classe\n",
    "            for img_file in os.listdir(class_dir):\n",
    "                img_path = os.path.join(class_dir, img_file)\n",
    "                # Extrair features usando VGG16\n",
    "                features = extract_features(img_path, base_model)\n",
    "                X.append(features)\n",
    "                y.append(classe)  # A classe é o nome da subpasta (saudável, doença1, doença2)\n",
    "    \n",
    "    # Converter para arrays numpy\n",
    "    X = np.array(X)\n",
    "    y = np.array(y)\n",
    "    \n",
    "\n",
    "    return X, y"
   ]
  },
  {
   "cell_type": "code",
   "execution_count": null,
   "id": "8bc6c139-a217-4169-999a-a9114d56503b",
   "metadata": {},
   "outputs": [],
   "source": []
  }
 ],
 "metadata": {
  "kernelspec": {
   "display_name": "Python 3 (ipykernel)",
   "language": "python",
   "name": "python3"
  },
  "language_info": {
   "codemirror_mode": {
    "name": "ipython",
    "version": 3
   },
   "file_extension": ".py",
   "mimetype": "text/x-python",
   "name": "python",
   "nbconvert_exporter": "python",
   "pygments_lexer": "ipython3",
   "version": "3.11.7"
  }
 },
 "nbformat": 4,
 "nbformat_minor": 5
}
